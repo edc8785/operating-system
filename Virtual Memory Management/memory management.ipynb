{
 "cells": [
  {
   "cell_type": "markdown",
   "metadata": {},
   "source": [
    "# 운영체제(SCSC) Project-2\n",
    "## Virtual Memory Management\n",
    "## 팀 명단: 한대룡(2014311688), 류지원(2015312436)"
   ]
  },
  {
   "cell_type": "markdown",
   "metadata": {},
   "source": [
    "과제 목표\n",
    "- Demand paing system을 가정하고 이를 위한 replacement 기법 구현\n",
    "\n",
    "과제 내용\n",
    "\n",
    "- 주어진 page reference string을 입력 받아 아래의 각 replacement 기법으로 처리했을 경우의 memory residence set 변화 과정 및 page fault 발생 과정 추적/출력\n",
    "- MIN, FIFO, LRU, LFU, WS Memory Management\n",
    "- Pafe frame 할당량 및 window size 등은 입력으로 결정하며, 초기 할당된 page frame들은 모두 비어 있는 것으로 가정\n",
    "- 각 기법의 실행 결과에 대한 출력 방법은 팀 별로 design하여 진행\n",
    "- 기타 필요한 가정은 각 팀 별로 설정하고 보고서에 명시"
   ]
  },
  {
   "cell_type": "markdown",
   "metadata": {},
   "source": [
    "## Abstract\n",
    "\n",
    "- 본 과제는 MS 플랫폼에서 Python을 이용하여 진행\n",
    "- MIN, FIFO, LRU, LFU, WS Memory Management를 각각 function으로 define하여 진행\n",
    "- 각각의 함수 모두 N, M, W, K  page_string을 input으로 받되 WS 기법만 W를 사용"
   ]
  },
  {
   "cell_type": "markdown",
   "metadata": {},
   "source": [
    "### Import Package & Define Function\n",
    "- 필요한 package를 import하고 text파일을 읽는 함수, 뒤의 memory management 함수를 구현하는데 필요한 함수를 추가적으로 정의"
   ]
  },
  {
   "cell_type": "code",
   "execution_count": 12,
   "metadata": {},
   "outputs": [],
   "source": [
    "import numpy as np"
   ]
  },
  {
   "cell_type": "code",
   "execution_count": 13,
   "metadata": {},
   "outputs": [],
   "source": [
    "def read_input(input_file):\n",
    "    with open(input_file) as f:\n",
    "        index = 0\n",
    "        for line in f:\n",
    "            array = line.split()\n",
    "            if(index == 0):\n",
    "                N = int(array[0])\n",
    "                M = int(array[1])\n",
    "                W = int(array[2])\n",
    "                K = int(array[3])\n",
    "                index = index + 1\n",
    "\n",
    "            else:\n",
    "                page_string = array\n",
    "                page_string = [int (i) for i in page_string]\n",
    "    \n",
    "    return (N, M, W, K, page_string)"
   ]
  },
  {
   "cell_type": "code",
   "execution_count": 16,
   "metadata": {},
   "outputs": [
    {
     "name": "stdout",
     "output_type": "stream",
     "text": [
      "6 4 3 14 [1, 2, 6, 1, 4, 5, 1, 2, 1, 4, 5, 6, 4, 5]\n"
     ]
    }
   ],
   "source": [
    "N, M, W, K, page_string = read_input(\"input1.txt\")\n",
    "print(N, M, W, K, page_string)"
   ]
  },
  {
   "cell_type": "code",
   "execution_count": 49,
   "metadata": {},
   "outputs": [],
   "source": [
    "class Queue():\n",
    "    def __init__(self):\n",
    "        self.items = []\n",
    "\n",
    "    def isEmpty(self):\n",
    "        return self.items == []\n",
    "\n",
    "    def enqueue(self, item):\n",
    "        self.items.insert(0,item)\n",
    "\n",
    "    def dequeue(self):\n",
    "        return self.items.pop()\n",
    "    \n",
    "    \n",
    "    ## LRU의 경우 이미 메모리에 참조된 페이지가 후에 다시 들어올 경우 queue에서 위치를 바꿔줘야 하므로 이를 제거하는 remove를 추가로 설정\n",
    "    def remove(self, item):\n",
    "        self.items.remove(item)"
   ]
  },
  {
   "cell_type": "code",
   "execution_count": 56,
   "metadata": {},
   "outputs": [],
   "source": [
    "## LFU는 각 page 마다 참조 횟수가 필요하므로 이를 class로 정의하여 추적\n",
    "class LFU:\n",
    "    def __init__(self, id):\n",
    "        self.id = id\n",
    "        self.reference_times = 0\n",
    "    \n",
    "    def increase(self):\n",
    "        self.reference_times += 1"
   ]
  },
  {
   "cell_type": "code",
   "execution_count": 57,
   "metadata": {},
   "outputs": [],
   "source": [
    "## WS는 각 page마다 memory 상태 정보가 필요하고 memory에 존재하는 경우와 memory에 존재하지 않는 경우를 알 수 있도록 class로 정의\n",
    "class WS:\n",
    "    def __init__(self, id):\n",
    "        self.id = id\n",
    "        self.state = \"-\"\n",
    "    \n",
    "    def memory_on(self):\n",
    "        self.state = str(self.id)\n",
    "        \n",
    "    def memory_off(self):\n",
    "        self.state = \"-\""
   ]
  },
  {
   "cell_type": "markdown",
   "metadata": {},
   "source": [
    "### MIN\n",
    "\n",
    "- 새로 들어오는 페이지가 기존의 메모리를 할당받고 있으면 그대로 진행한다.\n",
    "- memory에 자리가 있는 경우 memory를 할당하고 자리가 없는 경우는 남은 reference string을 확인하여 현재 memory에 존재하는 페이지 중 가장 나중에 필요한 페이지를 빼고 새로운 페이지에 메모리를 할당한다."
   ]
  },
  {
   "cell_type": "code",
   "execution_count": 48,
   "metadata": {},
   "outputs": [],
   "source": [
    "def MIN_replacement(N, M, W, K, page_string):\n",
    "    print(\"MIN\")\n",
    "    print(\"메모리 상태 변화 과정\")\n",
    "    \n",
    "    memory_state = []\n",
    "    page_fault = 0\n",
    "    \n",
    "    for i in range(0, K):\n",
    "        exist = False\n",
    "        \n",
    "        for j in range(0,len(memory_state)):\n",
    "            if(page_string[i] == memory_state[j]):\n",
    "                exist = True\n",
    "        \n",
    "        if(not exist):\n",
    "            if(len(memory_state) < M):\n",
    "                memory_state.append(page_string[i])\n",
    "                page_fault = page_fault + 1\n",
    "                \n",
    "            else:\n",
    "                res = page_string[i:]\n",
    "                \n",
    "                try:\n",
    "                    maximum = res.index(memory_state[0])\n",
    "                    try:\n",
    "                        for k in range(0, len(memory_state)):\n",
    "                            maximum = max(maximum, res.index(memory_state[k]))\n",
    "                        delete = memory_state.index(res[maximum])\n",
    "                    except:\n",
    "                        delete = memory_state.index(memory_state[k])\n",
    "                except ValueError:\n",
    "                    delete = memory_state.index(memory_state[0])\n",
    "                    \n",
    "                    \n",
    "                memory_state[delete] = page_string[i]\n",
    "                page_fault = page_fault + 1\n",
    "        \n",
    "        print(memory_state)\n",
    "        \n",
    "    print(\"총 page fault 횟수: \",page_fault )"
   ]
  },
  {
   "cell_type": "markdown",
   "metadata": {},
   "source": [
    "### FIFO\n",
    "\n",
    "- 새로 들어오는 페이지가 기존의 메모리를 할당받고 있으면 그대로 진행한다.\n",
    "- memory에 자리가 있는 경우 memory를 할당하고 자리가 없는 경우는 남은 reference string을 확인하여 현재 memory에 존재하는 페이지 중 가장 먼저 메모리를 할당받은 페이지를 빼고, 새로운 페이지에 메모리를 할당한다."
   ]
  },
  {
   "cell_type": "code",
   "execution_count": 50,
   "metadata": {},
   "outputs": [],
   "source": [
    "def FIFO_replacement(N, M, W, K, page_string):\n",
    "    print(\"FIFO\")\n",
    "    print(\"메모리 상태 변화 과정\")\n",
    "    \n",
    "    memory_state = []\n",
    "    queue = Queue()\n",
    "    page_fault = 0\n",
    "    \n",
    "    for i in range(0, K):\n",
    "        exist = False\n",
    "        \n",
    "        for j in range(0,len(memory_state)):\n",
    "            if(page_string[i] == memory_state[j]):\n",
    "                exist = True\n",
    "        \n",
    "        if(not exist):\n",
    "            if(len(memory_state) < M):\n",
    "                memory_state.append(page_string[i])\n",
    "                queue.enqueue(page_string[i])\n",
    "                page_fault = page_fault + 1\n",
    "                \n",
    "            else:\n",
    "                ## 가장 먼저 들어온 페이지를 제거\n",
    "                delete = memory_state.index(queue.dequeue())\n",
    "                    \n",
    "                memory_state[delete] = page_string[i]\n",
    "                queue.enqueue(page_string[i])\n",
    "                page_fault = page_fault + 1\n",
    "        \n",
    "        print(memory_state)\n",
    "        \n",
    "    print(\"총 page fault 횟수: \",page_fault )"
   ]
  },
  {
   "cell_type": "markdown",
   "metadata": {},
   "source": [
    "### LRU\n",
    "\n",
    "- 새로 들어오는 페이지가 기존의 메모리를 할당받고 있으면 그대로 진행한다.\n",
    "- memory에 자리가 있는 경우 memory를 할당하고 자리가 없는 경우는 남은 reference string을 확인하여 현재 memory에 존재하는 페이지 중 최근에 참조된 시간이 가장 오래된 페이지의 메모리를 빼서 새로운 페이지에 할당한다.\n",
    "- 이미 참조된 페이지가 다시 참조될 경우 queue에서 순서를 변경하여 원래의 위치에서 값을 삭제하고 맨 뒤로 이동"
   ]
  },
  {
   "cell_type": "code",
   "execution_count": 29,
   "metadata": {},
   "outputs": [],
   "source": [
    "def LRU_replacement(N, M, W, K, page_string):\n",
    "    print(\"LRU\")\n",
    "    print(\"메모리 상태 변화 과정\")\n",
    "    \n",
    "    memory_state = []\n",
    "    queue = Queue()\n",
    "    page_fault = 0\n",
    "    \n",
    "    for i in range(0, K):\n",
    "        exist = False\n",
    "        \n",
    "        for j in range(0,len(memory_state)):\n",
    "            if(page_string[i] == memory_state[j]):\n",
    "                exist = True\n",
    "        \n",
    "        if(not exist):\n",
    "            if(len(memory_state) < M):\n",
    "                memory_state.append(page_string[i])\n",
    "                queue.enqueue(page_string[i])\n",
    "                page_fault = page_fault + 1\n",
    "                \n",
    "            else:\n",
    "                delete = memory_state.index(queue.dequeue())\n",
    "                    \n",
    "                memory_state[delete] = page_string[i]\n",
    "                queue.enqueue(page_string[i])\n",
    "                page_fault = page_fault + 1\n",
    "        else:\n",
    "            queue.remove(page_string[i])\n",
    "            queue.enqueue(page_string[i])\n",
    "        \n",
    "        print(memory_state)\n",
    "        \n",
    "    print(\"총 page fault 횟수: \",page_fault )"
   ]
  },
  {
   "cell_type": "markdown",
   "metadata": {},
   "source": [
    "### LFU\n",
    "\n",
    "- 새로 들어오는 페이지가 기존의 메모리를 할당받고 있으면 그대로 진행한다.\n",
    "- memory에 자리가 있는 경우 memory를 할당하고 자리가 없는 경우는 남은 reference string을 확인하여 현재 memory에 존재하는 페이지 중 참조된 횟수가 가장 적은 페이지를 빼서 새로운 페이지에 메모리를 할당한다.\n",
    "- 페이지마다 reference_time을 설정하여 참조될 때마다 count를 1씩 증가"
   ]
  },
  {
   "cell_type": "code",
   "execution_count": 35,
   "metadata": {},
   "outputs": [],
   "source": [
    "def LFU_replacement(N, M, W, K, page_string):\n",
    "    print(\"LFU\")\n",
    "    print(\"메모리 상태 변화 과정\")\n",
    "    \n",
    "    memory_state = []\n",
    "    page_fault = 0\n",
    "    queue = Queue()\n",
    "    \n",
    "    result = []\n",
    "\n",
    "    for i in range(0, N):\n",
    "        result.append(LFU(i))\n",
    "    \n",
    "    for i in range(0, K):\n",
    "        result[page_string[i]-1].increase()\n",
    "        exist = False\n",
    "        \n",
    "        \n",
    "        for j in range(0,len(memory_state)):\n",
    "            if(page_string[i] == memory_state[j]):\n",
    "                exist = True\n",
    "        \n",
    "        if(not exist):\n",
    "            if(len(memory_state) < M):\n",
    "                memory_state.append(page_string[i])\n",
    "                queue.enqueue(page_string[i])\n",
    "                page_fault = page_fault + 1\n",
    "                \n",
    "            else:\n",
    "                min_value = result[memory_state[0]-1].reference_times\n",
    "                pos = 0\n",
    "                when = queue.items.index(memory_state[0])\n",
    "                for re in range(0, len(memory_state)):\n",
    "                    if(result[memory_state[re]-1].reference_times < min_value):\n",
    "                        min_value = result[memory_state[re]-1].reference_times\n",
    "                        pos = re\n",
    "                        when = queue.items.index(memory_state[re])\n",
    "                    elif(result[memory_state[re]-1].reference_times == min_value):\n",
    "                        if(queue.items.index(memory_state[re]) > when):\n",
    "                            min_value = result[memory_state[re]-1].reference_times\n",
    "                            pos = re\n",
    "                            when = queue.items.index(memory_state[re])\n",
    "\n",
    "                        \n",
    "                memory_state[pos] = page_string[i]\n",
    "                queue.enqueue(page_string[i])\n",
    "                page_fault = page_fault + 1\n",
    "        \n",
    "        else:\n",
    "            queue.remove(page_string[i])\n",
    "            queue.enqueue(page_string[i])\n",
    "\n",
    "        print(memory_state)\n",
    "        \n",
    "    print(\"총 page fault 횟수: \",page_fault )"
   ]
  },
  {
   "cell_type": "markdown",
   "metadata": {},
   "source": [
    "## WS\n",
    "- 해당 page가 memory에 들어오면 그 페이지의 memory state를 on 시킴\n",
    "- 해당 각 time마다 window size를 바탕으로 그 이전에 memory에 존재했던 페이지의 state를 \"-\"으로 변경\n",
    "- 초기 page frame은 비어 있는 것으로 가정하였으므로 time 3까지 page가 들어오는 것 역시 page_fault로 설정"
   ]
  },
  {
   "cell_type": "code",
   "execution_count": 67,
   "metadata": {},
   "outputs": [],
   "source": [
    "def WS_replacement(N, M, W, K, page_string):\n",
    "    print(\"WS\")\n",
    "    print(\"메모리 상태 변화 과정\")\n",
    "    result = []\n",
    "    page_fault = 0\n",
    "    num_of_allocated_frame = []\n",
    "    \n",
    "    for i in range(1, N+1):\n",
    "        result.append(WS(i))\n",
    "    \n",
    "    for i in range(0, K):\n",
    "        if(i < W):\n",
    "            result[page_string[i]-1].memory_on()\n",
    "            page_fault = page_fault + 1\n",
    "            \n",
    "        else:\n",
    "            if(result[page_string[i]-1].state == \"-\"):\n",
    "                result[page_string[i]-1].memory_on()\n",
    "                page_fault = page_fault + 1\n",
    "            \n",
    "            page = []\n",
    "            for k in range(i-W, i+1):\n",
    "                page.append(page_string[k])\n",
    "            \n",
    "            if (not page_string[i-W-1] in page):\n",
    "                result[page_string[i-W-1]-1].memory_off()\n",
    "        \n",
    "        \n",
    "        memory_state = []\n",
    "        for y in range(0, N):\n",
    "            memory_state.append(result[y].state)\n",
    "            \n",
    "        num_of_allocated_frame.append(sum(np.array(memory_state) != \"-\"))\n",
    "        print(memory_state)\n",
    "       \n",
    "        \n",
    "    print(\"총 page fault 횟수: \",page_fault)\n",
    "    print(\"average allocated page frame: \", sum(num_of_allocated_frame)/len(num_of_allocated_frame))"
   ]
  },
  {
   "cell_type": "markdown",
   "metadata": {},
   "source": [
    "## Simulate1 - 교안에 있는 예시"
   ]
  },
  {
   "cell_type": "code",
   "execution_count": 60,
   "metadata": {},
   "outputs": [
    {
     "name": "stdout",
     "output_type": "stream",
     "text": [
      "6 4 3 14 [1, 2, 6, 1, 4, 5, 1, 2, 1, 4, 5, 6, 4, 5]\n"
     ]
    }
   ],
   "source": [
    "N, M, W, K, page_string = read_input(\"input1.txt\")\n",
    "print(N, M, W, K, page_string)"
   ]
  },
  {
   "cell_type": "code",
   "execution_count": 30,
   "metadata": {},
   "outputs": [
    {
     "name": "stdout",
     "output_type": "stream",
     "text": [
      "MIN\n",
      "메모리 상태 변화 과정\n",
      "[1]\n",
      "[1, 2]\n",
      "[1, 2, 6]\n",
      "[1, 2, 6]\n",
      "[1, 2, 6, 4]\n",
      "[1, 2, 5, 4]\n",
      "[1, 2, 5, 4]\n",
      "[1, 2, 5, 4]\n",
      "[1, 2, 5, 4]\n",
      "[1, 2, 5, 4]\n",
      "[1, 2, 5, 4]\n",
      "[6, 2, 5, 4]\n",
      "[6, 2, 5, 4]\n",
      "[6, 2, 5, 4]\n",
      "총 page fault 횟수:  6\n"
     ]
    }
   ],
   "source": [
    "N, M, W, K, page_string = read_input(\"input1.txt\")\n",
    "MIN_replacement(N, M, W, K, page_string)"
   ]
  },
  {
   "cell_type": "code",
   "execution_count": 31,
   "metadata": {},
   "outputs": [
    {
     "name": "stdout",
     "output_type": "stream",
     "text": [
      "FIFO\n",
      "메모리 상태 변화 과정\n",
      "[1]\n",
      "[1, 2]\n",
      "[1, 2, 6]\n",
      "[1, 2, 6]\n",
      "[1, 2, 6, 4]\n",
      "[5, 2, 6, 4]\n",
      "[5, 1, 6, 4]\n",
      "[5, 1, 2, 4]\n",
      "[5, 1, 2, 4]\n",
      "[5, 1, 2, 4]\n",
      "[5, 1, 2, 4]\n",
      "[5, 1, 2, 6]\n",
      "[4, 1, 2, 6]\n",
      "[4, 5, 2, 6]\n",
      "총 page fault 횟수:  10\n"
     ]
    }
   ],
   "source": [
    "N, M, W, K, page_string = read_input(\"input1.txt\")\n",
    "FIFO_replacement(N, M, W, K, page_string)"
   ]
  },
  {
   "cell_type": "code",
   "execution_count": 32,
   "metadata": {},
   "outputs": [
    {
     "name": "stdout",
     "output_type": "stream",
     "text": [
      "LRU\n",
      "메모리 상태 변화 과정\n",
      "[1]\n",
      "[1, 2]\n",
      "[1, 2, 6]\n",
      "[1, 2, 6]\n",
      "[1, 2, 6, 4]\n",
      "[1, 5, 6, 4]\n",
      "[1, 5, 6, 4]\n",
      "[1, 5, 2, 4]\n",
      "[1, 5, 2, 4]\n",
      "[1, 5, 2, 4]\n",
      "[1, 5, 2, 4]\n",
      "[1, 5, 6, 4]\n",
      "[1, 5, 6, 4]\n",
      "[1, 5, 6, 4]\n",
      "총 page fault 횟수:  7\n"
     ]
    }
   ],
   "source": [
    "N, M, W, K, page_string = read_input(\"input1.txt\")\n",
    "LRU_replacement(N, M, W, K, page_string)"
   ]
  },
  {
   "cell_type": "code",
   "execution_count": 36,
   "metadata": {},
   "outputs": [
    {
     "name": "stdout",
     "output_type": "stream",
     "text": [
      "LFU\n",
      "메모리 상태 변화 과정\n",
      "[1]\n",
      "[1, 2]\n",
      "[1, 2, 6]\n",
      "[1, 2, 6]\n",
      "[1, 2, 6, 4]\n",
      "[1, 5, 6, 4]\n",
      "[1, 5, 6, 4]\n",
      "[1, 5, 2, 4]\n",
      "[1, 5, 2, 4]\n",
      "[1, 5, 2, 4]\n",
      "[1, 5, 2, 4]\n",
      "[1, 5, 6, 4]\n",
      "[1, 5, 6, 4]\n",
      "[1, 5, 6, 4]\n",
      "총 page fault 횟수:  7\n"
     ]
    }
   ],
   "source": [
    "N, M, W, K, page_string = read_input(\"input1.txt\")\n",
    "LFU_replacement(N, M, W, K, page_string)"
   ]
  },
  {
   "cell_type": "code",
   "execution_count": 62,
   "metadata": {},
   "outputs": [
    {
     "name": "stdout",
     "output_type": "stream",
     "text": [
      "5 3 3 13 [5, 4, 1, 3, 3, 4, 2, 3, 5, 3, 5, 1, 4]\n"
     ]
    }
   ],
   "source": [
    "N, M, W, K, page_string = read_input(\"input2.txt\")\n",
    "print(N, M, W, K, page_string)"
   ]
  },
  {
   "cell_type": "code",
   "execution_count": 68,
   "metadata": {},
   "outputs": [
    {
     "name": "stdout",
     "output_type": "stream",
     "text": [
      "WS\n",
      "메모리 상태 변화 과정\n",
      "['-', '-', '-', '-', '5']\n",
      "['-', '-', '-', '4', '5']\n",
      "['1', '-', '-', '4', '5']\n",
      "['1', '-', '3', '4', '5']\n",
      "['1', '-', '3', '4', '-']\n",
      "['1', '-', '3', '4', '-']\n",
      "['-', '2', '3', '4', '-']\n",
      "['-', '2', '3', '4', '-']\n",
      "['-', '2', '3', '4', '5']\n",
      "['-', '2', '3', '-', '5']\n",
      "['-', '-', '3', '-', '5']\n",
      "['1', '-', '3', '-', '5']\n",
      "['1', '-', '3', '4', '5']\n",
      "총 page fault 횟수:  8\n",
      "average allocated page frame:  2.923076923076923\n"
     ]
    }
   ],
   "source": [
    "N, M, W, K, page_string = read_input(\"input2.txt\")\n",
    "WS_replacement(N, M, W, K, page_string)"
   ]
  },
  {
   "cell_type": "markdown",
   "metadata": {},
   "source": [
    "## Simulate2 - HW pdf에 존재하는 예시"
   ]
  },
  {
   "cell_type": "code",
   "execution_count": 69,
   "metadata": {},
   "outputs": [
    {
     "name": "stdout",
     "output_type": "stream",
     "text": [
      "5 3 3 15 [1, 2, 3, 2, 3, 4, 5, 4, 1, 3, 4, 2, 3, 4, 5]\n"
     ]
    }
   ],
   "source": [
    "N, M, W, K, page_string = read_input(\"input3.txt\")\n",
    "print(N, M, W, K, page_string)"
   ]
  },
  {
   "cell_type": "code",
   "execution_count": 70,
   "metadata": {},
   "outputs": [
    {
     "name": "stdout",
     "output_type": "stream",
     "text": [
      "MIN\n",
      "메모리 상태 변화 과정\n",
      "[1]\n",
      "[1, 2]\n",
      "[1, 2, 3]\n",
      "[1, 2, 3]\n",
      "[1, 2, 3]\n",
      "[1, 4, 3]\n",
      "[1, 4, 5]\n",
      "[1, 4, 5]\n",
      "[1, 4, 5]\n",
      "[3, 4, 5]\n",
      "[3, 4, 5]\n",
      "[3, 4, 2]\n",
      "[3, 4, 2]\n",
      "[3, 4, 2]\n",
      "[5, 4, 2]\n",
      "총 page fault 횟수:  8\n",
      "FIFO\n",
      "메모리 상태 변화 과정\n",
      "[1]\n",
      "[1, 2]\n",
      "[1, 2, 3]\n",
      "[1, 2, 3]\n",
      "[1, 2, 3]\n",
      "[4, 2, 3]\n",
      "[4, 5, 3]\n",
      "[4, 5, 3]\n",
      "[4, 5, 1]\n",
      "[3, 5, 1]\n",
      "[3, 4, 1]\n",
      "[3, 4, 2]\n",
      "[3, 4, 2]\n",
      "[3, 4, 2]\n",
      "[5, 4, 2]\n",
      "총 page fault 횟수:  10\n",
      "LRU\n",
      "메모리 상태 변화 과정\n",
      "[1]\n",
      "[1, 2]\n",
      "[1, 2, 3]\n",
      "[1, 2, 3]\n",
      "[1, 2, 3]\n",
      "[4, 2, 3]\n",
      "[4, 5, 3]\n",
      "[4, 5, 3]\n",
      "[4, 5, 1]\n",
      "[4, 3, 1]\n",
      "[4, 3, 1]\n",
      "[4, 3, 2]\n",
      "[4, 3, 2]\n",
      "[4, 3, 2]\n",
      "[4, 3, 5]\n",
      "총 page fault 횟수:  9\n",
      "LFU\n",
      "메모리 상태 변화 과정\n",
      "[1]\n",
      "[1, 2]\n",
      "[1, 2, 3]\n",
      "[1, 2, 3]\n",
      "[1, 2, 3]\n",
      "[4, 2, 3]\n",
      "[5, 2, 3]\n",
      "[4, 2, 3]\n",
      "[4, 1, 3]\n",
      "[4, 1, 3]\n",
      "[4, 1, 3]\n",
      "[4, 2, 3]\n",
      "[4, 2, 3]\n",
      "[4, 2, 3]\n",
      "[4, 5, 3]\n",
      "총 page fault 횟수:  9\n",
      "WS\n",
      "메모리 상태 변화 과정\n",
      "['1', '-', '-', '-', '-']\n",
      "['1', '2', '-', '-', '-']\n",
      "['1', '2', '3', '-', '-']\n",
      "['1', '2', '3', '-', '-']\n",
      "['-', '2', '3', '-', '-']\n",
      "['-', '2', '3', '4', '-']\n",
      "['-', '2', '3', '4', '5']\n",
      "['-', '-', '3', '4', '5']\n",
      "['1', '-', '-', '4', '5']\n",
      "['1', '-', '3', '4', '5']\n",
      "['1', '-', '3', '4', '-']\n",
      "['1', '2', '3', '4', '-']\n",
      "['-', '2', '3', '4', '-']\n",
      "['-', '2', '3', '4', '-']\n",
      "['-', '2', '3', '4', '5']\n",
      "총 page fault 횟수:  9\n",
      "average allocated page frame:  3.0\n"
     ]
    }
   ],
   "source": [
    "N, M, W, K, page_string = read_input(\"input3.txt\")\n",
    "MIN_replacement(N, M, W, K, page_string)\n",
    "FIFO_replacement(N, M, W, K, page_string)\n",
    "LRU_replacement(N, M, W, K, page_string)\n",
    "LFU_replacement(N, M, W, K, page_string)\n",
    "WS_replacement(N, M, W, K, page_string)"
   ]
  }
 ],
 "metadata": {
  "kernelspec": {
   "display_name": "Python 3",
   "language": "python",
   "name": "python3"
  },
  "language_info": {
   "codemirror_mode": {
    "name": "ipython",
    "version": 3
   },
   "file_extension": ".py",
   "mimetype": "text/x-python",
   "name": "python",
   "nbconvert_exporter": "python",
   "pygments_lexer": "ipython3",
   "version": "3.7.1"
  }
 },
 "nbformat": 4,
 "nbformat_minor": 2
}
